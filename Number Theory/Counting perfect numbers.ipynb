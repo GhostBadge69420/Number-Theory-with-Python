{
 "cells": [
  {
   "cell_type": "code",
   "execution_count": 1,
   "metadata": {},
   "outputs": [],
   "source": [
    "import sympy as sym\n",
    "import numpy as np\n",
    "sym.init_printing()\n",
    "from IPython.display import display,Math\n",
    "from sympy.abc import x,y\n",
    "import math\n",
    "from math import gcd\n",
    "x,y = sym.symbols('x,y')\n",
    "import matplotlib.pyplot as plt\n",
    "import sympy.plotting.plot as symplot\n",
    "x,a = sym.symbols('x,a')\n",
    "from matplotlib.patches import Polygon\n",
    "from matplotlib import pyplot as plt\n",
    "import cmath as cm\n",
    "import scipy as sp\n",
    "from scipy.signal import find_peaks\n",
    "import seaborn as sns\n",
    "from plotly.subplots import make_subplots\n",
    "from plotly import graph_objects as go\n",
    "from mpl_toolkits.mplot3d import Axes3D\n",
    "from scipy.linalg import toeplitz\n",
    "from PIL import Image\n",
    "import pandas as pd\n",
    "from scipy.stats import rankdata\n",
    "from sklearn.preprocessing import MinMaxScaler\n",
    "import sys\n",
    "import sklearn\n",
    "from scipy.sparse import csr_matrix "
   ]
  },
  {
   "attachments": {},
   "cell_type": "markdown",
   "metadata": {},
   "source": [
    "# Number theory: The queen of mathematics'\n",
    "\n",
    "Number theory is the study of properties of numbers,because numbers are really interesting and have a lot of wacky,unexpected,and beautiful properties"
   ]
  },
  {
   "attachments": {},
   "cell_type": "markdown",
   "metadata": {},
   "source": [
    "# Perfect number:\n",
    "                  \n",
    "            A positive integer that equals the sum of its positive divisors(excluding the number)."
   ]
  },
  {
   "cell_type": "code",
   "execution_count": 2,
   "metadata": {},
   "outputs": [
    {
     "data": {
      "image/png": "[encoded data removed]",
      "text/latex": [
       "$\\displaystyle \\left[ 1, \\  2, \\  3\\right]$"
      ],
      "text/plain": [
       "[1, 2, 3]"
      ]
     },
     "execution_count": 2,
     "metadata": {},
     "output_type": "execute_result"
    }
   ],
   "source": [
    "number = 6\n",
    "\n",
    "divisors = []\n",
    "\n",
    "for d in range(1,number):\n",
    "    if number%d == 0:\n",
    "        divisors.append(d)\n",
    "\n",
    "divisors"
   ]
  },
  {
   "cell_type": "code",
   "execution_count": 3,
   "metadata": {},
   "outputs": [
    {
     "data": {
      "image/png": "[encoded data removed]",
      "text/latex": [
       "$\\displaystyle 6$"
      ],
      "text/plain": [
       "6"
      ]
     },
     "execution_count": 3,
     "metadata": {},
     "output_type": "execute_result"
    }
   ],
   "source": [
    "number = 6\n",
    "\n",
    "divisors = []\n",
    "\n",
    "for d in range(1,number):\n",
    "    if number%d == 0:\n",
    "        divisors.append(d)\n",
    "\n",
    "sum(divisors)"
   ]
  },
  {
   "cell_type": "code",
   "execution_count": 4,
   "metadata": {},
   "outputs": [
    {
     "data": {
      "text/plain": [
       "True"
      ]
     },
     "execution_count": 4,
     "metadata": {},
     "output_type": "execute_result"
    }
   ],
   "source": [
    "number = 6\n",
    "\n",
    "divisors = []\n",
    "\n",
    "for d in range(1,number):\n",
    "    if number%d == 0:\n",
    "        divisors.append(d)\n",
    "\n",
    "sum(divisors)==number"
   ]
  },
  {
   "cell_type": "code",
   "execution_count": 5,
   "metadata": {},
   "outputs": [
    {
     "data": {
      "text/plain": [
       "False"
      ]
     },
     "execution_count": 5,
     "metadata": {},
     "output_type": "execute_result"
    }
   ],
   "source": [
    "number = 8\n",
    "\n",
    "divisors = []\n",
    "\n",
    "for d in range(1,number):\n",
    "    if number%d == 0:\n",
    "        divisors.append(d)\n",
    "\n",
    "sum(divisors)==number"
   ]
  },
  {
   "cell_type": "code",
   "execution_count": 6,
   "metadata": {},
   "outputs": [
    {
     "data": {
      "text/plain": [
       "False"
      ]
     },
     "execution_count": 6,
     "metadata": {},
     "output_type": "execute_result"
    }
   ],
   "source": [
    "def test4perfect(number):\n",
    "    divisors = []\n",
    "\n",
    "    for d in range(1,number):\n",
    "        if number%d == 0:\n",
    "            divisors.append(d)\n",
    "\n",
    "sum(divisors)==number"
   ]
  },
  {
   "cell_type": "code",
   "execution_count": 18,
   "metadata": {},
   "outputs": [],
   "source": [
    "def test4perfect(number):\n",
    "    divisors = []\n",
    "\n",
    "    for d in range(1,number):\n",
    "        if number%d == 0:\n",
    "            divisors.append(d)\n",
    "\n",
    "    return sum(divisors)==number"
   ]
  },
  {
   "cell_type": "code",
   "execution_count": 19,
   "metadata": {},
   "outputs": [
    {
     "data": {
      "text/plain": [
       "False"
      ]
     },
     "execution_count": 19,
     "metadata": {},
     "output_type": "execute_result"
    }
   ],
   "source": [
    "test4perfect(4)"
   ]
  },
  {
   "cell_type": "code",
   "execution_count": 20,
   "metadata": {},
   "outputs": [
    {
     "data": {
      "text/plain": [
       "True"
      ]
     },
     "execution_count": 20,
     "metadata": {},
     "output_type": "execute_result"
    }
   ],
   "source": [
    "test4perfect(6)"
   ]
  },
  {
   "cell_type": "code",
   "execution_count": 21,
   "metadata": {},
   "outputs": [
    {
     "data": {
      "text/plain": [
       "False"
      ]
     },
     "execution_count": 21,
     "metadata": {},
     "output_type": "execute_result"
    }
   ],
   "source": [
    "test4perfect(26)"
   ]
  },
  {
   "cell_type": "code",
   "execution_count": 22,
   "metadata": {},
   "outputs": [
    {
     "data": {
      "text/plain": [
       "True"
      ]
     },
     "execution_count": 22,
     "metadata": {},
     "output_type": "execute_result"
    }
   ],
   "source": [
    "test4perfect(28)"
   ]
  },
  {
   "cell_type": "code",
   "execution_count": 24,
   "metadata": {},
   "outputs": [],
   "source": [
    "for number in range(2,10001):\n",
    "    test4perfect(number)"
   ]
  },
  {
   "cell_type": "code",
   "execution_count": 13,
   "metadata": {},
   "outputs": [
    {
     "data": {
      "image/png": "[encoded data removed]",
      "text/latex": [
       "$\\displaystyle \\left[ 6, \\  28, \\  496, \\  8128\\right]$"
      ],
      "text/plain": [
       "[6, 28, 496, 8128]"
      ]
     },
     "execution_count": 13,
     "metadata": {},
     "output_type": "execute_result"
    }
   ],
   "source": [
    "perfectnums = []\n",
    "\n",
    "for number in  range(2,10001):\n",
    "    if test4perfect(number):\n",
    "        perfectnums.append(number)\n",
    "\n",
    "perfectnums"
   ]
  },
  {
   "cell_type": "code",
   "execution_count": 14,
   "metadata": {},
   "outputs": [
    {
     "data": {
      "image/png": "[encoded data removed]",
      "text/latex": [
       "$\\displaystyle 2$"
      ],
      "text/plain": [
       "2"
      ]
     },
     "execution_count": 14,
     "metadata": {},
     "output_type": "execute_result"
    }
   ],
   "source": [
    "6%4"
   ]
  },
  {
   "cell_type": "markdown",
   "metadata": {},
   "source": [
    "# Exercise\n",
    "\n",
    "## Implement this function in one line of code,using list comprehension.\n",
    "\n",
    "#create a function that tests\n",
    "\n",
    "#whether the input is a perfect number\n",
    "\n",
    "def test4perfect(number):\n",
    " \n",
    "    #initialize\n",
    "\n",
    "    divisors = []\n",
    "\n",
    "    #find integer divisors\n",
    "    \n",
    "    for d in range(1, number):\n",
    "\n",
    "        if number%d == 0:\n",
    "         \n",
    "            divisors.append(d)\n",
    "\n",
    "    #test for equality\n",
    "    \n",
    "    return sum(divisors)==number"
   ]
  },
  {
   "cell_type": "code",
   "execution_count": 15,
   "metadata": {},
   "outputs": [
    {
     "data": {
      "image/png": "[encoded data removed]",
      "text/latex": [
       "$\\displaystyle \\left[ 0, \\  1, \\  4, \\  9, \\  16, \\  25, \\  36, \\  49, \\  64, \\  81\\right]$"
      ],
      "text/plain": [
       "[0, 1, 4, 9, 16, 25, 36, 49, 64, 81]"
      ]
     },
     "execution_count": 15,
     "metadata": {},
     "output_type": "execute_result"
    }
   ],
   "source": [
    "lst = []\n",
    "for i in range(10):\n",
    "    lst.append(i**2)\n",
    "\n",
    "lst"
   ]
  },
  {
   "cell_type": "code",
   "execution_count": 16,
   "metadata": {},
   "outputs": [
    {
     "name": "stdout",
     "output_type": "stream",
     "text": [
      "[0, 1, 4, 9, 16, 25, 36, 49, 64, 81]\n",
      "[0, 1, 4, 9, 16, 25, 36, 49, 64, 81]\n"
     ]
    }
   ],
   "source": [
    "lst  = []\n",
    "for i in range(10):\n",
    "    lst.append(i**2)\n",
    "\n",
    "lst2 = [ i**2 for i in range(10)]\n",
    "\n",
    "print(lst)\n",
    "print(lst2)"
   ]
  },
  {
   "cell_type": "code",
   "execution_count": 26,
   "metadata": {},
   "outputs": [],
   "source": [
    "def test2perfect2(number):\n",
    "    return number==sum([ d for d in range(1,number) if number%d==0 ])"
   ]
  },
  {
   "cell_type": "code",
   "execution_count": 27,
   "metadata": {},
   "outputs": [
    {
     "data": {
      "text/plain": [
       "True"
      ]
     },
     "execution_count": 27,
     "metadata": {},
     "output_type": "execute_result"
    }
   ],
   "source": [
    "test2perfect2(28)"
   ]
  },
  {
   "cell_type": "code",
   "execution_count": null,
   "metadata": {},
   "outputs": [],
   "source": []
  }
 ],
 "metadata": {
  "kernelspec": {
   "display_name": "base",
   "language": "python",
   "name": "python3"
  },
  "language_info": {
   "codemirror_mode": {
    "name": "ipython",
    "version": 3
   },
   "file_extension": ".py",
   "mimetype": "text/x-python",
   "name": "python",
   "nbconvert_exporter": "python",
   "pygments_lexer": "ipython3",
   "version": "3.10.9"
  },
  "orig_nbformat": 4
 },
 "nbformat": 4,
 "nbformat_minor": 2
}
